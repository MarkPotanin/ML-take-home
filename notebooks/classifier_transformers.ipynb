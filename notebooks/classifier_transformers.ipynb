{
 "cells": [
  {
   "cell_type": "code",
   "execution_count": 1,
   "id": "f63f73c9-70cd-4219-8349-e817d2e157ed",
   "metadata": {
    "execution": {
     "iopub.execute_input": "2023-03-01T21:46:14.589309Z",
     "iopub.status.busy": "2023-03-01T21:46:14.589021Z",
     "iopub.status.idle": "2023-03-01T21:46:14.593719Z",
     "shell.execute_reply": "2023-03-01T21:46:14.593091Z",
     "shell.execute_reply.started": "2023-03-01T21:46:14.589240Z"
    },
    "tags": []
   },
   "outputs": [],
   "source": [
    "# import zipfile\n",
    "# with zipfile.ZipFile('potato_plans_diseases.zip', 'r') as zip_ref:\n",
    "#     zip_ref.extractall('.')"
   ]
  },
  {
   "cell_type": "code",
   "execution_count": 16,
   "id": "3fcd3d81-a80f-4d3e-b9cc-ca0bf4754e33",
   "metadata": {
    "execution": {
     "iopub.execute_input": "2023-03-02T14:51:23.482158Z",
     "iopub.status.busy": "2023-03-02T14:51:23.481850Z",
     "iopub.status.idle": "2023-03-02T14:51:23.487139Z",
     "shell.execute_reply": "2023-03-02T14:51:23.486495Z",
     "shell.execute_reply.started": "2023-03-02T14:51:23.482128Z"
    },
    "tags": []
   },
   "outputs": [],
   "source": [
    "#!pip install scikit-learn"
   ]
  },
  {
   "cell_type": "code",
   "execution_count": 3,
   "id": "73a4e023-efdd-4f74-b8c6-d097b74d90a2",
   "metadata": {
    "execution": {
     "iopub.execute_input": "2023-03-02T14:50:17.371461Z",
     "iopub.status.busy": "2023-03-02T14:50:17.371145Z",
     "iopub.status.idle": "2023-03-02T14:50:17.374595Z",
     "shell.execute_reply": "2023-03-02T14:50:17.373946Z",
     "shell.execute_reply.started": "2023-03-02T14:50:17.371431Z"
    },
    "tags": []
   },
   "outputs": [],
   "source": [
    "#!pip install --upgrade torch torchvision"
   ]
  },
  {
   "cell_type": "code",
   "execution_count": 3,
   "id": "ee5ffed8-27e1-4f8e-acfd-11ae0f77f83c",
   "metadata": {
    "execution": {
     "iopub.execute_input": "2023-03-02T14:50:51.557750Z",
     "iopub.status.busy": "2023-03-02T14:50:51.557438Z",
     "iopub.status.idle": "2023-03-02T14:50:51.561084Z",
     "shell.execute_reply": "2023-03-02T14:50:51.560441Z",
     "shell.execute_reply.started": "2023-03-02T14:50:51.557703Z"
    },
    "tags": []
   },
   "outputs": [],
   "source": [
    "#!pip install datasets transformers"
   ]
  },
  {
   "cell_type": "code",
   "execution_count": 1,
   "id": "69da815c-fd32-4444-aca7-41e7141e6b8a",
   "metadata": {
    "execution": {
     "iopub.execute_input": "2023-03-02T18:18:37.848964Z",
     "iopub.status.busy": "2023-03-02T18:18:37.848678Z",
     "iopub.status.idle": "2023-03-02T18:18:41.599674Z",
     "shell.execute_reply": "2023-03-02T18:18:41.599115Z",
     "shell.execute_reply.started": "2023-03-02T18:18:37.848888Z"
    },
    "tags": []
   },
   "outputs": [],
   "source": [
    "import torch\n",
    "from torchvision import  transforms\n",
    "from datasets import load_dataset\n",
    "import numpy as np\n",
    "from matplotlib import pyplot as plt\n",
    "import numpy as np\n",
    "from datasets import load_metric\n",
    "from transformers import ViTForImageClassification\n",
    "from transformers import TrainingArguments"
   ]
  },
  {
   "cell_type": "code",
   "execution_count": 59,
   "id": "da529b9e-ec4b-4cf3-a655-ed55e1e1bf09",
   "metadata": {
    "execution": {
     "iopub.execute_input": "2023-03-02T21:17:58.632020Z",
     "iopub.status.busy": "2023-03-02T21:17:58.631724Z",
     "iopub.status.idle": "2023-03-02T21:17:58.635068Z",
     "shell.execute_reply": "2023-03-02T21:17:58.634489Z",
     "shell.execute_reply.started": "2023-03-02T21:17:58.631996Z"
    },
    "tags": []
   },
   "outputs": [],
   "source": [
    "import sklearn"
   ]
  },
  {
   "cell_type": "code",
   "execution_count": 58,
   "id": "535a4c62-cd3d-4a6b-904f-244973a5fad0",
   "metadata": {
    "execution": {
     "iopub.execute_input": "2023-03-02T21:17:40.056595Z",
     "iopub.status.busy": "2023-03-02T21:17:40.056300Z",
     "iopub.status.idle": "2023-03-02T21:17:40.060791Z",
     "shell.execute_reply": "2023-03-02T21:17:40.060142Z",
     "shell.execute_reply.started": "2023-03-02T21:17:40.056571Z"
    },
    "tags": []
   },
   "outputs": [
    {
     "data": {
      "text/plain": [
       "'1.2.1'"
      ]
     },
     "execution_count": 58,
     "metadata": {},
     "output_type": "execute_result"
    }
   ],
   "source": [
    "sklearn.__version__"
   ]
  },
  {
   "cell_type": "markdown",
   "id": "f77ea0e2-629f-4085-b387-e65a2ac778b0",
   "metadata": {
    "tags": []
   },
   "source": [
    "# Data"
   ]
  },
  {
   "cell_type": "code",
   "execution_count": 2,
   "id": "de15569b-e666-498a-a1f9-caf4a16b98db",
   "metadata": {
    "execution": {
     "iopub.execute_input": "2023-03-02T18:18:41.600960Z",
     "iopub.status.busy": "2023-03-02T18:18:41.600783Z",
     "iopub.status.idle": "2023-03-02T18:18:41.681032Z",
     "shell.execute_reply": "2023-03-02T18:18:41.680530Z",
     "shell.execute_reply.started": "2023-03-02T18:18:41.600939Z"
    },
    "tags": []
   },
   "outputs": [],
   "source": [
    "from transformers import ViTFeatureExtractor\n",
    "\n",
    "model_name_or_path = 'google/vit-base-patch16-224-in21k'\n",
    "feature_extractor = ViTFeatureExtractor.from_pretrained(model_name_or_path)\n",
    "\n",
    "dataset = load_dataset(\"imagefolder\", data_files={\"train\": \"../dataset/PLD_3_Classes_256/Training/**\",\\\n",
    "                                                  \"test\": \"../dataset/PLD_3_Classes_256/Testing/**\",\\\n",
    "                                                  \"valid\": \"../dataset/PLD_3_Classes_256/Validation/**\"})"
   ]
  },
  {
   "cell_type": "code",
   "execution_count": 4,
   "id": "60c42ca2-63ba-44bb-8af1-1e1ee5bd42f8",
   "metadata": {
    "execution": {
     "iopub.execute_input": "2023-03-02T18:18:43.452938Z",
     "iopub.status.busy": "2023-03-02T18:18:43.452485Z",
     "iopub.status.idle": "2023-03-02T18:18:43.456633Z",
     "shell.execute_reply": "2023-03-02T18:18:43.456028Z",
     "shell.execute_reply.started": "2023-03-02T18:18:43.452894Z"
    },
    "tags": []
   },
   "outputs": [],
   "source": [
    "train_ds = dataset['train']\n",
    "val_ds = dataset['valid']\n",
    "test_ds = dataset['test']"
   ]
  },
  {
   "cell_type": "markdown",
   "id": "a019634e-19c1-4737-9f95-1803ccafdd52",
   "metadata": {},
   "source": [
    "All images in all splits have the same size (256,256) - I checked it."
   ]
  },
  {
   "cell_type": "code",
   "execution_count": 5,
   "id": "cc1a131b-50ad-4731-8c5c-d8658d96fffe",
   "metadata": {
    "execution": {
     "iopub.execute_input": "2023-03-02T18:18:43.463762Z",
     "iopub.status.busy": "2023-03-02T18:18:43.463621Z",
     "iopub.status.idle": "2023-03-02T18:18:43.466564Z",
     "shell.execute_reply": "2023-03-02T18:18:43.466076Z",
     "shell.execute_reply.started": "2023-03-02T18:18:43.463745Z"
    },
    "tags": []
   },
   "outputs": [],
   "source": [
    "normalize = transforms.Normalize(mean=feature_extractor.image_mean, std=feature_extractor.image_std)"
   ]
  },
  {
   "cell_type": "code",
   "execution_count": 6,
   "id": "13b01fc0-683a-4d2a-b2b9-c04827832e29",
   "metadata": {
    "execution": {
     "iopub.execute_input": "2023-03-02T18:18:43.467497Z",
     "iopub.status.busy": "2023-03-02T18:18:43.467286Z",
     "iopub.status.idle": "2023-03-02T18:18:43.470843Z",
     "shell.execute_reply": "2023-03-02T18:18:43.470231Z",
     "shell.execute_reply.started": "2023-03-02T18:18:43.467477Z"
    },
    "tags": []
   },
   "outputs": [],
   "source": [
    "resize = tuple(feature_extractor.size.values())"
   ]
  },
  {
   "cell_type": "code",
   "execution_count": 7,
   "id": "6e81c49b-d62e-41ce-866b-bceb4230d874",
   "metadata": {
    "execution": {
     "iopub.execute_input": "2023-03-02T18:18:43.471778Z",
     "iopub.status.busy": "2023-03-02T18:18:43.471583Z",
     "iopub.status.idle": "2023-03-02T18:18:43.475786Z",
     "shell.execute_reply": "2023-03-02T18:18:43.475172Z",
     "shell.execute_reply.started": "2023-03-02T18:18:43.471761Z"
    },
    "tags": []
   },
   "outputs": [],
   "source": [
    "_train_transforms = transforms.Compose([transforms.Resize(resize),                          \n",
    "                                       transforms.RandomHorizontalFlip(),\n",
    "                                       transforms.RandomVerticalFlip(),\n",
    "                                       transforms.ToTensor(), normalize\n",
    "                                       ])\n",
    "_val_transforms = transforms.Compose([transforms.Resize(resize),                          \n",
    "                                       transforms.ToTensor(), normalize\n",
    "                                       ])"
   ]
  },
  {
   "cell_type": "code",
   "execution_count": 8,
   "id": "01f6a601-ac1d-4446-97a0-a5ebcbd70c33",
   "metadata": {
    "execution": {
     "iopub.execute_input": "2023-03-02T18:18:43.477565Z",
     "iopub.status.busy": "2023-03-02T18:18:43.477377Z",
     "iopub.status.idle": "2023-03-02T18:18:43.481576Z",
     "shell.execute_reply": "2023-03-02T18:18:43.481069Z",
     "shell.execute_reply.started": "2023-03-02T18:18:43.477547Z"
    },
    "tags": []
   },
   "outputs": [],
   "source": [
    "def train_transforms(examples):\n",
    "    examples['pixel_values'] = [_train_transforms(image) for image in examples['image']]\n",
    "    return examples\n",
    "\n",
    "def val_transforms(examples):\n",
    "    examples['pixel_values'] = [_val_transforms(image) for image in examples['image']]\n",
    "    return examples"
   ]
  },
  {
   "cell_type": "code",
   "execution_count": 9,
   "id": "5a555070-ee3b-4c37-8a82-560e15a86899",
   "metadata": {
    "execution": {
     "iopub.execute_input": "2023-03-02T18:18:43.482940Z",
     "iopub.status.busy": "2023-03-02T18:18:43.482474Z",
     "iopub.status.idle": "2023-03-02T18:18:43.500304Z",
     "shell.execute_reply": "2023-03-02T18:18:43.499724Z",
     "shell.execute_reply.started": "2023-03-02T18:18:43.482907Z"
    },
    "tags": []
   },
   "outputs": [],
   "source": [
    "train_ds.set_transform(train_transforms)\n",
    "val_ds.set_transform(val_transforms)\n",
    "test_ds.set_transform(val_transforms)"
   ]
  },
  {
   "cell_type": "code",
   "execution_count": 10,
   "id": "24a9226b-3727-415b-b534-e1d742a187ea",
   "metadata": {
    "execution": {
     "iopub.execute_input": "2023-03-02T18:18:43.501584Z",
     "iopub.status.busy": "2023-03-02T18:18:43.501198Z",
     "iopub.status.idle": "2023-03-02T18:18:43.505570Z",
     "shell.execute_reply": "2023-03-02T18:18:43.504979Z",
     "shell.execute_reply.started": "2023-03-02T18:18:43.501552Z"
    },
    "tags": []
   },
   "outputs": [],
   "source": [
    "def collate_fn(batch):\n",
    "    return {\n",
    "        'pixel_values': torch.stack([x['pixel_values'] for x in batch]),\n",
    "        'labels': torch.tensor([x['label'] for x in batch])\n",
    "    }"
   ]
  },
  {
   "cell_type": "code",
   "execution_count": 11,
   "id": "fe786235-b2e6-44c8-a5d0-74b10d9348db",
   "metadata": {
    "execution": {
     "iopub.execute_input": "2023-03-02T18:18:43.506935Z",
     "iopub.status.busy": "2023-03-02T18:18:43.506548Z",
     "iopub.status.idle": "2023-03-02T18:18:44.298913Z",
     "shell.execute_reply": "2023-03-02T18:18:44.298432Z",
     "shell.execute_reply.started": "2023-03-02T18:18:43.506903Z"
    },
    "tags": []
   },
   "outputs": [
    {
     "name": "stderr",
     "output_type": "stream",
     "text": [
      "/tmp/ipykernel_11383/3314281577.py:1: FutureWarning: load_metric is deprecated and will be removed in the next major version of datasets. Use 'evaluate.load' instead, from the new library 🤗 Evaluate: https://huggingface.co/docs/evaluate\n",
      "  metric = load_metric(\"accuracy\")\n"
     ]
    }
   ],
   "source": [
    "metric = load_metric(\"accuracy\")\n",
    "def compute_metrics(p):\n",
    "    return metric.compute(predictions=np.argmax(p.predictions, axis=1), references=p.label_ids)"
   ]
  },
  {
   "cell_type": "code",
   "execution_count": 12,
   "id": "78bac2f7-47f0-4909-a094-5c8f7ac98097",
   "metadata": {
    "execution": {
     "iopub.execute_input": "2023-03-02T18:18:44.299965Z",
     "iopub.status.busy": "2023-03-02T18:18:44.299740Z",
     "iopub.status.idle": "2023-03-02T18:18:45.373689Z",
     "shell.execute_reply": "2023-03-02T18:18:45.373203Z",
     "shell.execute_reply.started": "2023-03-02T18:18:44.299941Z"
    },
    "tags": []
   },
   "outputs": [
    {
     "name": "stderr",
     "output_type": "stream",
     "text": [
      "Some weights of the model checkpoint at google/vit-base-patch16-224-in21k were not used when initializing ViTForImageClassification: ['pooler.dense.bias', 'pooler.dense.weight']\n",
      "- This IS expected if you are initializing ViTForImageClassification from the checkpoint of a model trained on another task or with another architecture (e.g. initializing a BertForSequenceClassification model from a BertForPreTraining model).\n",
      "- This IS NOT expected if you are initializing ViTForImageClassification from the checkpoint of a model that you expect to be exactly identical (initializing a BertForSequenceClassification model from a BertForSequenceClassification model).\n",
      "Some weights of ViTForImageClassification were not initialized from the model checkpoint at google/vit-base-patch16-224-in21k and are newly initialized: ['classifier.weight', 'classifier.bias']\n",
      "You should probably TRAIN this model on a down-stream task to be able to use it for predictions and inference.\n"
     ]
    }
   ],
   "source": [
    "labels = train_ds.features['label'].names\n",
    "labels = [i.lower() for i in labels]\n",
    "model = ViTForImageClassification.from_pretrained(\n",
    "    model_name_or_path,\n",
    "    num_labels=len(labels),\n",
    "    id2label={str(i): c for i, c in enumerate(labels)},\n",
    "    label2id={c: str(i) for i, c in enumerate(labels)}\n",
    ")"
   ]
  },
  {
   "cell_type": "code",
   "execution_count": 17,
   "id": "5547f72b-ec2c-49a1-a5a4-028596457c51",
   "metadata": {
    "execution": {
     "iopub.execute_input": "2023-03-02T18:19:21.377438Z",
     "iopub.status.busy": "2023-03-02T18:19:21.377098Z",
     "iopub.status.idle": "2023-03-02T18:19:21.383041Z",
     "shell.execute_reply": "2023-03-02T18:19:21.382493Z",
     "shell.execute_reply.started": "2023-03-02T18:19:21.377410Z"
    },
    "tags": []
   },
   "outputs": [
    {
     "name": "stderr",
     "output_type": "stream",
     "text": [
      "PyTorch: setting up devices\n"
     ]
    }
   ],
   "source": [
    "training_args = TrainingArguments(\n",
    "  output_dir=\"../ml-server/mlmodels/vit-potatoes-plant-health-status/\",\n",
    "  per_device_train_batch_size=32,\n",
    "  evaluation_strategy=\"steps\",\n",
    "  num_train_epochs=4,\n",
    "  fp16=True,\n",
    "  save_steps=100,\n",
    "  eval_steps=100,\n",
    "  logging_steps=10,\n",
    "  learning_rate=2e-4,\n",
    "  save_total_limit=2,\n",
    "  remove_unused_columns=False,\n",
    "  report_to='none',\n",
    "  push_to_hub=False,\n",
    "  load_best_model_at_end=True,\n",
    ")"
   ]
  },
  {
   "cell_type": "code",
   "execution_count": 18,
   "id": "394780d9-5e6d-4046-b29a-9e9906e3e629",
   "metadata": {
    "execution": {
     "iopub.execute_input": "2023-03-02T18:19:30.082214Z",
     "iopub.status.busy": "2023-03-02T18:19:30.081831Z",
     "iopub.status.idle": "2023-03-02T18:19:30.092304Z",
     "shell.execute_reply": "2023-03-02T18:19:30.091673Z",
     "shell.execute_reply.started": "2023-03-02T18:19:30.082172Z"
    },
    "tags": []
   },
   "outputs": [
    {
     "name": "stderr",
     "output_type": "stream",
     "text": [
      "Using cuda_amp half precision backend\n"
     ]
    }
   ],
   "source": [
    "from transformers import Trainer\n",
    "\n",
    "trainer = Trainer(\n",
    "    model=model,\n",
    "    args=training_args,\n",
    "    data_collator=collate_fn,\n",
    "    compute_metrics=compute_metrics,\n",
    "    train_dataset=train_ds,\n",
    "    eval_dataset=val_ds,\n",
    "    tokenizer=feature_extractor,\n",
    ")"
   ]
  },
  {
   "cell_type": "code",
   "execution_count": 19,
   "id": "f566ceb1-ec67-4241-ac11-7b3f802580fa",
   "metadata": {
    "execution": {
     "iopub.execute_input": "2023-03-02T18:19:32.257115Z",
     "iopub.status.busy": "2023-03-02T18:19:32.256803Z",
     "iopub.status.idle": "2023-03-02T18:23:10.708784Z",
     "shell.execute_reply": "2023-03-02T18:23:10.708139Z",
     "shell.execute_reply.started": "2023-03-02T18:19:32.257089Z"
    },
    "tags": []
   },
   "outputs": [
    {
     "name": "stderr",
     "output_type": "stream",
     "text": [
      "/srv/conda/envs/saturn/lib/python3.9/site-packages/transformers/optimization.py:306: FutureWarning: This implementation of AdamW is deprecated and will be removed in a future version. Use the PyTorch implementation torch.optim.AdamW instead, or set `no_deprecation_warning=True` to disable this warning\n",
      "  warnings.warn(\n",
      "***** Running training *****\n",
      "  Num examples = 3251\n",
      "  Num Epochs = 4\n",
      "  Instantaneous batch size per device = 32\n",
      "  Total train batch size (w. parallel, distributed & accumulation) = 32\n",
      "  Gradient Accumulation steps = 1\n",
      "  Total optimization steps = 408\n",
      "  Number of trainable parameters = 85800963\n"
     ]
    },
    {
     "data": {
      "text/html": [
       "\n",
       "    <div>\n",
       "      \n",
       "      <progress value='408' max='408' style='width:300px; height:20px; vertical-align: middle;'></progress>\n",
       "      [408/408 03:33, Epoch 4/4]\n",
       "    </div>\n",
       "    <table border=\"1\" class=\"dataframe\">\n",
       "  <thead>\n",
       " <tr style=\"text-align: left;\">\n",
       "      <th>Step</th>\n",
       "      <th>Training Loss</th>\n",
       "      <th>Validation Loss</th>\n",
       "      <th>Accuracy</th>\n",
       "    </tr>\n",
       "  </thead>\n",
       "  <tbody>\n",
       "    <tr>\n",
       "      <td>100</td>\n",
       "      <td>0.040200</td>\n",
       "      <td>0.067163</td>\n",
       "      <td>0.975962</td>\n",
       "    </tr>\n",
       "    <tr>\n",
       "      <td>200</td>\n",
       "      <td>0.046000</td>\n",
       "      <td>0.018231</td>\n",
       "      <td>0.997596</td>\n",
       "    </tr>\n",
       "    <tr>\n",
       "      <td>300</td>\n",
       "      <td>0.012100</td>\n",
       "      <td>0.023179</td>\n",
       "      <td>0.995192</td>\n",
       "    </tr>\n",
       "    <tr>\n",
       "      <td>400</td>\n",
       "      <td>0.005000</td>\n",
       "      <td>0.015188</td>\n",
       "      <td>0.997596</td>\n",
       "    </tr>\n",
       "  </tbody>\n",
       "</table><p>"
      ],
      "text/plain": [
       "<IPython.core.display.HTML object>"
      ]
     },
     "metadata": {},
     "output_type": "display_data"
    },
    {
     "name": "stderr",
     "output_type": "stream",
     "text": [
      "***** Running Evaluation *****\n",
      "  Num examples = 416\n",
      "  Batch size = 8\n",
      "Saving model checkpoint to ./vit-base-potato/checkpoint-100\n",
      "Configuration saved in ./vit-base-potato/checkpoint-100/config.json\n",
      "Model weights saved in ./vit-base-potato/checkpoint-100/pytorch_model.bin\n",
      "Image processor saved in ./vit-base-potato/checkpoint-100/preprocessor_config.json\n",
      "***** Running Evaluation *****\n",
      "  Num examples = 416\n",
      "  Batch size = 8\n",
      "Saving model checkpoint to ./vit-base-potato/checkpoint-200\n",
      "Configuration saved in ./vit-base-potato/checkpoint-200/config.json\n",
      "Model weights saved in ./vit-base-potato/checkpoint-200/pytorch_model.bin\n",
      "Image processor saved in ./vit-base-potato/checkpoint-200/preprocessor_config.json\n",
      "***** Running Evaluation *****\n",
      "  Num examples = 416\n",
      "  Batch size = 8\n",
      "Saving model checkpoint to ./vit-base-potato/checkpoint-300\n",
      "Configuration saved in ./vit-base-potato/checkpoint-300/config.json\n",
      "Model weights saved in ./vit-base-potato/checkpoint-300/pytorch_model.bin\n",
      "Image processor saved in ./vit-base-potato/checkpoint-300/preprocessor_config.json\n",
      "Deleting older checkpoint [vit-base-potato/checkpoint-100] due to args.save_total_limit\n",
      "***** Running Evaluation *****\n",
      "  Num examples = 416\n",
      "  Batch size = 8\n",
      "Saving model checkpoint to ./vit-base-potato/checkpoint-400\n",
      "Configuration saved in ./vit-base-potato/checkpoint-400/config.json\n",
      "Model weights saved in ./vit-base-potato/checkpoint-400/pytorch_model.bin\n",
      "Image processor saved in ./vit-base-potato/checkpoint-400/preprocessor_config.json\n",
      "Deleting older checkpoint [vit-base-potato/checkpoint-200] due to args.save_total_limit\n",
      "\n",
      "\n",
      "Training completed. Do not forget to share your model on huggingface.co/models =)\n",
      "\n",
      "\n",
      "Loading best model from ./vit-base-potato/checkpoint-400 (score: 0.01518774963915348).\n",
      "Saving model checkpoint to ./vit-base-potato\n",
      "Configuration saved in ./vit-base-potato/config.json\n",
      "Model weights saved in ./vit-base-potato/pytorch_model.bin\n",
      "Image processor saved in ./vit-base-potato/preprocessor_config.json\n"
     ]
    },
    {
     "name": "stdout",
     "output_type": "stream",
     "text": [
      "***** train metrics *****\n",
      "  epoch                    =         4.0\n",
      "  total_flos               = 938507602GF\n",
      "  train_loss               =      0.0489\n",
      "  train_runtime            =  0:03:38.04\n",
      "  train_samples_per_second =      59.638\n",
      "  train_steps_per_second   =       1.871\n"
     ]
    }
   ],
   "source": [
    "train_results = trainer.train()\n",
    "trainer.save_model()\n",
    "trainer.log_metrics(\"train\", train_results.metrics)\n",
    "trainer.save_metrics(\"train\", train_results.metrics)\n",
    "trainer.save_state()"
   ]
  },
  {
   "cell_type": "code",
   "execution_count": 20,
   "id": "518b8ea7-4476-4873-9d90-f9841a5d70d4",
   "metadata": {
    "execution": {
     "iopub.execute_input": "2023-03-02T18:23:36.247042Z",
     "iopub.status.busy": "2023-03-02T18:23:36.246745Z",
     "iopub.status.idle": "2023-03-02T18:23:39.151859Z",
     "shell.execute_reply": "2023-03-02T18:23:39.151198Z",
     "shell.execute_reply.started": "2023-03-02T18:23:36.247017Z"
    },
    "tags": []
   },
   "outputs": [
    {
     "name": "stderr",
     "output_type": "stream",
     "text": [
      "***** Running Evaluation *****\n",
      "  Num examples = 405\n",
      "  Batch size = 8\n"
     ]
    },
    {
     "data": {
      "text/html": [
       "\n",
       "    <div>\n",
       "      \n",
       "      <progress value='51' max='51' style='width:300px; height:20px; vertical-align: middle;'></progress>\n",
       "      [51/51 00:02]\n",
       "    </div>\n",
       "    "
      ],
      "text/plain": [
       "<IPython.core.display.HTML object>"
      ]
     },
     "metadata": {},
     "output_type": "display_data"
    },
    {
     "name": "stdout",
     "output_type": "stream",
     "text": [
      "***** eval metrics *****\n",
      "  epoch                   =        4.0\n",
      "  eval_accuracy           =     0.9951\n",
      "  eval_loss               =     0.0281\n",
      "  eval_runtime            = 0:00:02.89\n",
      "  eval_samples_per_second =    139.729\n",
      "  eval_steps_per_second   =     17.596\n"
     ]
    }
   ],
   "source": [
    "metrics = trainer.evaluate(test_ds)\n",
    "trainer.log_metrics(\"eval\", metrics)\n",
    "trainer.save_metrics(\"eval\", metrics)"
   ]
  },
  {
   "cell_type": "markdown",
   "id": "1d0bd03c-42f1-4714-a82e-a80119a2c35c",
   "metadata": {},
   "source": [
    "# Inference"
   ]
  },
  {
   "cell_type": "code",
   "execution_count": 22,
   "id": "320687e8-c3c9-443c-95bb-932daddcf790",
   "metadata": {
    "execution": {
     "iopub.execute_input": "2023-03-02T19:28:15.333947Z",
     "iopub.status.busy": "2023-03-02T19:28:15.333611Z",
     "iopub.status.idle": "2023-03-02T19:28:15.337019Z",
     "shell.execute_reply": "2023-03-02T19:28:15.336412Z",
     "shell.execute_reply.started": "2023-03-02T19:28:15.333917Z"
    },
    "tags": []
   },
   "outputs": [],
   "source": [
    "from PIL import Image"
   ]
  },
  {
   "cell_type": "code",
   "execution_count": 23,
   "id": "288a245e-0358-49f9-a1a1-b811efdefd19",
   "metadata": {
    "execution": {
     "iopub.execute_input": "2023-03-02T19:28:15.532243Z",
     "iopub.status.busy": "2023-03-02T19:28:15.532004Z",
     "iopub.status.idle": "2023-03-02T19:28:15.558999Z",
     "shell.execute_reply": "2023-03-02T19:28:15.558417Z",
     "shell.execute_reply.started": "2023-03-02T19:28:15.532217Z"
    },
    "tags": []
   },
   "outputs": [
    {
     "data": {
      "image/png": "[encoded data removed]",
      "text/plain": [
       "<PIL.JpegImagePlugin.JpegImageFile image mode=RGB size=256x256 at 0x7F3A4D6CD940>"
      ]
     },
     "execution_count": 23,
     "metadata": {},
     "output_type": "execute_result"
    }
   ],
   "source": [
    "image = Image.open('../ml-server/tests/images/healthy.jpeg')\n",
    "image"
   ]
  },
  {
   "cell_type": "code",
   "execution_count": 24,
   "id": "4ceeee26-31be-410a-8bba-bfa30d70a9cd",
   "metadata": {
    "execution": {
     "iopub.execute_input": "2023-03-02T19:28:17.492658Z",
     "iopub.status.busy": "2023-03-02T19:28:17.492293Z",
     "iopub.status.idle": "2023-03-02T19:28:17.496220Z",
     "shell.execute_reply": "2023-03-02T19:28:17.495419Z",
     "shell.execute_reply.started": "2023-03-02T19:28:17.492628Z"
    },
    "tags": []
   },
   "outputs": [],
   "source": [
    "WEIGHTS = \"../ml-server/mlmodels/vit-potatoes-plant-health-status/\""
   ]
  },
  {
   "cell_type": "code",
   "execution_count": 25,
   "id": "db318e44-836f-4b68-9ea9-69846e72d895",
   "metadata": {
    "execution": {
     "iopub.execute_input": "2023-03-02T19:28:18.947693Z",
     "iopub.status.busy": "2023-03-02T19:28:18.947365Z",
     "iopub.status.idle": "2023-03-02T19:28:18.955283Z",
     "shell.execute_reply": "2023-03-02T19:28:18.954628Z",
     "shell.execute_reply.started": "2023-03-02T19:28:18.947655Z"
    },
    "tags": []
   },
   "outputs": [
    {
     "name": "stderr",
     "output_type": "stream",
     "text": [
      "loading configuration file ./Modify/ml-server/mlmodels/vit-potatoes-plant-health-status/preprocessor_config.json\n",
      "/srv/conda/envs/saturn/lib/python3.9/site-packages/transformers/models/vit/feature_extraction_vit.py:28: FutureWarning: The class ViTFeatureExtractor is deprecated and will be removed in version 5 of Transformers. Please use ViTImageProcessor instead.\n",
      "  warnings.warn(\n",
      "Image processor ViTFeatureExtractor {\n",
      "  \"do_normalize\": true,\n",
      "  \"do_rescale\": true,\n",
      "  \"do_resize\": true,\n",
      "  \"image_mean\": [\n",
      "    0.5,\n",
      "    0.5,\n",
      "    0.5\n",
      "  ],\n",
      "  \"image_processor_type\": \"ViTFeatureExtractor\",\n",
      "  \"image_std\": [\n",
      "    0.5,\n",
      "    0.5,\n",
      "    0.5\n",
      "  ],\n",
      "  \"resample\": 2,\n",
      "  \"rescale_factor\": 0.00392156862745098,\n",
      "  \"size\": {\n",
      "    \"height\": 224,\n",
      "    \"width\": 224\n",
      "  }\n",
      "}\n",
      "\n"
     ]
    }
   ],
   "source": [
    "from transformers import AutoImageProcessor\n",
    "import torch\n",
    "\n",
    "image_processor = AutoImageProcessor.from_pretrained(WEIGHTS)"
   ]
  },
  {
   "cell_type": "code",
   "execution_count": 26,
   "id": "f8189797-acb1-4e62-b52b-706eb2da7650",
   "metadata": {
    "execution": {
     "iopub.execute_input": "2023-03-02T19:28:21.117338Z",
     "iopub.status.busy": "2023-03-02T19:28:21.116921Z",
     "iopub.status.idle": "2023-03-02T19:28:21.123427Z",
     "shell.execute_reply": "2023-03-02T19:28:21.122644Z",
     "shell.execute_reply.started": "2023-03-02T19:28:21.117299Z"
    },
    "tags": []
   },
   "outputs": [],
   "source": [
    "inputs = _val_transforms(image)"
   ]
  },
  {
   "cell_type": "code",
   "execution_count": 27,
   "id": "b5726ce2-f11f-4f02-b7cc-f57ff7676510",
   "metadata": {
    "collapsed": true,
    "execution": {
     "iopub.execute_input": "2023-03-02T19:28:22.977763Z",
     "iopub.status.busy": "2023-03-02T19:28:22.977442Z",
     "iopub.status.idle": "2023-03-02T19:28:23.971997Z",
     "shell.execute_reply": "2023-03-02T19:28:23.971452Z",
     "shell.execute_reply.started": "2023-03-02T19:28:22.977715Z"
    },
    "jupyter": {
     "outputs_hidden": true
    },
    "tags": []
   },
   "outputs": [
    {
     "name": "stderr",
     "output_type": "stream",
     "text": [
      "loading configuration file ./Modify/ml-server/mlmodels/vit-potatoes-plant-health-status/config.json\n",
      "Model config ViTConfig {\n",
      "  \"_name_or_path\": \"./Modify/ml-server/mlmodels/vit-potatoes-plant-health-status/\",\n",
      "  \"architectures\": [\n",
      "    \"ViTForImageClassification\"\n",
      "  ],\n",
      "  \"attention_probs_dropout_prob\": 0.0,\n",
      "  \"encoder_stride\": 16,\n",
      "  \"hidden_act\": \"gelu\",\n",
      "  \"hidden_dropout_prob\": 0.0,\n",
      "  \"hidden_size\": 768,\n",
      "  \"id2label\": {\n",
      "    \"0\": \"early_blight\",\n",
      "    \"1\": \"healthy\",\n",
      "    \"2\": \"late_blight\"\n",
      "  },\n",
      "  \"image_size\": 224,\n",
      "  \"initializer_range\": 0.02,\n",
      "  \"intermediate_size\": 3072,\n",
      "  \"label2id\": {\n",
      "    \"early_blight\": \"0\",\n",
      "    \"healthy\": \"1\",\n",
      "    \"late_blight\": \"2\"\n",
      "  },\n",
      "  \"layer_norm_eps\": 1e-12,\n",
      "  \"model_type\": \"vit\",\n",
      "  \"num_attention_heads\": 12,\n",
      "  \"num_channels\": 3,\n",
      "  \"num_hidden_layers\": 12,\n",
      "  \"patch_size\": 16,\n",
      "  \"problem_type\": \"single_label_classification\",\n",
      "  \"qkv_bias\": true,\n",
      "  \"torch_dtype\": \"float32\",\n",
      "  \"transformers_version\": \"4.26.1\"\n",
      "}\n",
      "\n",
      "loading weights file ./Modify/ml-server/mlmodels/vit-potatoes-plant-health-status/pytorch_model.bin\n",
      "All model checkpoint weights were used when initializing ViTForImageClassification.\n",
      "\n",
      "All the weights of ViTForImageClassification were initialized from the model checkpoint at ./Modify/ml-server/mlmodels/vit-potatoes-plant-health-status/.\n",
      "If your task is similar to the task the model of the checkpoint was trained on, you can already use ViTForImageClassification for predictions without further training.\n"
     ]
    }
   ],
   "source": [
    "from transformers import AutoModelForImageClassification\n",
    "\n",
    "model = AutoModelForImageClassification.from_pretrained(WEIGHTS)"
   ]
  },
  {
   "cell_type": "code",
   "execution_count": 28,
   "id": "6d9e7f11-7c9b-497c-9346-4d6b56df8957",
   "metadata": {
    "execution": {
     "iopub.execute_input": "2023-03-02T19:28:24.771983Z",
     "iopub.status.busy": "2023-03-02T19:28:24.771702Z",
     "iopub.status.idle": "2023-03-02T19:28:24.998416Z",
     "shell.execute_reply": "2023-03-02T19:28:24.997798Z",
     "shell.execute_reply.started": "2023-03-02T19:28:24.771957Z"
    },
    "tags": []
   },
   "outputs": [],
   "source": [
    "with torch.no_grad():\n",
    "    logits = model(inputs.unsqueeze(0)).logits"
   ]
  },
  {
   "cell_type": "markdown",
   "id": "29fd6d6d-8e32-46b2-943d-fd92a930899a",
   "metadata": {},
   "source": [
    "Perfect! We got the right result."
   ]
  },
  {
   "cell_type": "code",
   "execution_count": 29,
   "id": "97a7f621-6ee5-4e8d-b9a7-9fcc1424e109",
   "metadata": {
    "execution": {
     "iopub.execute_input": "2023-03-02T19:28:25.672439Z",
     "iopub.status.busy": "2023-03-02T19:28:25.672146Z",
     "iopub.status.idle": "2023-03-02T19:28:25.677373Z",
     "shell.execute_reply": "2023-03-02T19:28:25.676710Z",
     "shell.execute_reply.started": "2023-03-02T19:28:25.672411Z"
    },
    "tags": []
   },
   "outputs": [
    {
     "data": {
      "text/plain": [
       "'healthy'"
      ]
     },
     "execution_count": 29,
     "metadata": {},
     "output_type": "execute_result"
    }
   ],
   "source": [
    "predicted_label = logits.argmax(-1).item()\n",
    "model.config.id2label[predicted_label]"
   ]
  },
  {
   "cell_type": "code",
   "execution_count": 30,
   "id": "cdeb4bdb-e198-4a47-ae7c-819ecbe3e411",
   "metadata": {
    "execution": {
     "iopub.execute_input": "2023-03-02T19:28:26.913159Z",
     "iopub.status.busy": "2023-03-02T19:28:26.912871Z",
     "iopub.status.idle": "2023-03-02T19:28:26.917306Z",
     "shell.execute_reply": "2023-03-02T19:28:26.916660Z",
     "shell.execute_reply.started": "2023-03-02T19:28:26.913134Z"
    },
    "tags": []
   },
   "outputs": [
    {
     "data": {
      "text/plain": [
       "1"
      ]
     },
     "execution_count": 30,
     "metadata": {},
     "output_type": "execute_result"
    }
   ],
   "source": [
    "predicted_label"
   ]
  },
  {
   "cell_type": "code",
   "execution_count": 97,
   "id": "63e6a53e-850b-41d1-a150-1c71dc4760ed",
   "metadata": {
    "execution": {
     "iopub.execute_input": "2023-03-02T17:50:05.162026Z",
     "iopub.status.busy": "2023-03-02T17:50:05.161782Z",
     "iopub.status.idle": "2023-03-02T17:50:05.166970Z",
     "shell.execute_reply": "2023-03-02T17:50:05.166421Z",
     "shell.execute_reply.started": "2023-03-02T17:50:05.162003Z"
    },
    "tags": []
   },
   "outputs": [
    {
     "data": {
      "text/plain": [
       "tensor([[-1.6366,  3.8663, -2.0534]])"
      ]
     },
     "execution_count": 97,
     "metadata": {},
     "output_type": "execute_result"
    }
   ],
   "source": [
    "logits"
   ]
  },
  {
   "cell_type": "code",
   "execution_count": 31,
   "id": "9ba3d964-e8a0-489b-a2e4-dbd490adc755",
   "metadata": {
    "execution": {
     "iopub.execute_input": "2023-03-02T19:28:30.892151Z",
     "iopub.status.busy": "2023-03-02T19:28:30.891845Z",
     "iopub.status.idle": "2023-03-02T19:28:30.911513Z",
     "shell.execute_reply": "2023-03-02T19:28:30.911046Z",
     "shell.execute_reply.started": "2023-03-02T19:28:30.892124Z"
    },
    "tags": []
   },
   "outputs": [],
   "source": [
    "from transformers import pipeline"
   ]
  },
  {
   "cell_type": "code",
   "execution_count": 32,
   "id": "a0d97629-a8de-4fbd-aa19-c16b129b1c38",
   "metadata": {
    "collapsed": true,
    "execution": {
     "iopub.execute_input": "2023-03-02T19:28:32.172219Z",
     "iopub.status.busy": "2023-03-02T19:28:32.171920Z",
     "iopub.status.idle": "2023-03-02T19:28:33.243515Z",
     "shell.execute_reply": "2023-03-02T19:28:33.242999Z",
     "shell.execute_reply.started": "2023-03-02T19:28:32.172194Z"
    },
    "jupyter": {
     "outputs_hidden": true
    },
    "tags": []
   },
   "outputs": [
    {
     "name": "stderr",
     "output_type": "stream",
     "text": [
      "loading configuration file ./Modify/ml-server/mlmodels/vit-potatoes-plant-health-status/config.json\n",
      "Model config ViTConfig {\n",
      "  \"_name_or_path\": \"./Modify/ml-server/mlmodels/vit-potatoes-plant-health-status/\",\n",
      "  \"architectures\": [\n",
      "    \"ViTForImageClassification\"\n",
      "  ],\n",
      "  \"attention_probs_dropout_prob\": 0.0,\n",
      "  \"encoder_stride\": 16,\n",
      "  \"hidden_act\": \"gelu\",\n",
      "  \"hidden_dropout_prob\": 0.0,\n",
      "  \"hidden_size\": 768,\n",
      "  \"id2label\": {\n",
      "    \"0\": \"early_blight\",\n",
      "    \"1\": \"healthy\",\n",
      "    \"2\": \"late_blight\"\n",
      "  },\n",
      "  \"image_size\": 224,\n",
      "  \"initializer_range\": 0.02,\n",
      "  \"intermediate_size\": 3072,\n",
      "  \"label2id\": {\n",
      "    \"early_blight\": \"0\",\n",
      "    \"healthy\": \"1\",\n",
      "    \"late_blight\": \"2\"\n",
      "  },\n",
      "  \"layer_norm_eps\": 1e-12,\n",
      "  \"model_type\": \"vit\",\n",
      "  \"num_attention_heads\": 12,\n",
      "  \"num_channels\": 3,\n",
      "  \"num_hidden_layers\": 12,\n",
      "  \"patch_size\": 16,\n",
      "  \"problem_type\": \"single_label_classification\",\n",
      "  \"qkv_bias\": true,\n",
      "  \"torch_dtype\": \"float32\",\n",
      "  \"transformers_version\": \"4.26.1\"\n",
      "}\n",
      "\n",
      "loading configuration file ./Modify/ml-server/mlmodels/vit-potatoes-plant-health-status/config.json\n",
      "Model config ViTConfig {\n",
      "  \"_name_or_path\": \"./Modify/ml-server/mlmodels/vit-potatoes-plant-health-status/\",\n",
      "  \"architectures\": [\n",
      "    \"ViTForImageClassification\"\n",
      "  ],\n",
      "  \"attention_probs_dropout_prob\": 0.0,\n",
      "  \"encoder_stride\": 16,\n",
      "  \"hidden_act\": \"gelu\",\n",
      "  \"hidden_dropout_prob\": 0.0,\n",
      "  \"hidden_size\": 768,\n",
      "  \"id2label\": {\n",
      "    \"0\": \"early_blight\",\n",
      "    \"1\": \"healthy\",\n",
      "    \"2\": \"late_blight\"\n",
      "  },\n",
      "  \"image_size\": 224,\n",
      "  \"initializer_range\": 0.02,\n",
      "  \"intermediate_size\": 3072,\n",
      "  \"label2id\": {\n",
      "    \"early_blight\": \"0\",\n",
      "    \"healthy\": \"1\",\n",
      "    \"late_blight\": \"2\"\n",
      "  },\n",
      "  \"layer_norm_eps\": 1e-12,\n",
      "  \"model_type\": \"vit\",\n",
      "  \"num_attention_heads\": 12,\n",
      "  \"num_channels\": 3,\n",
      "  \"num_hidden_layers\": 12,\n",
      "  \"patch_size\": 16,\n",
      "  \"problem_type\": \"single_label_classification\",\n",
      "  \"qkv_bias\": true,\n",
      "  \"torch_dtype\": \"float32\",\n",
      "  \"transformers_version\": \"4.26.1\"\n",
      "}\n",
      "\n",
      "loading weights file ./Modify/ml-server/mlmodels/vit-potatoes-plant-health-status/pytorch_model.bin\n",
      "All model checkpoint weights were used when initializing ViTForImageClassification.\n",
      "\n",
      "All the weights of ViTForImageClassification were initialized from the model checkpoint at ./Modify/ml-server/mlmodels/vit-potatoes-plant-health-status/.\n",
      "If your task is similar to the task the model of the checkpoint was trained on, you can already use ViTForImageClassification for predictions without further training.\n",
      "loading configuration file ./Modify/ml-server/mlmodels/vit-potatoes-plant-health-status/preprocessor_config.json\n",
      "loading configuration file ./Modify/ml-server/mlmodels/vit-potatoes-plant-health-status/config.json\n",
      "Model config ViTConfig {\n",
      "  \"_name_or_path\": \"./Modify/ml-server/mlmodels/vit-potatoes-plant-health-status/\",\n",
      "  \"architectures\": [\n",
      "    \"ViTForImageClassification\"\n",
      "  ],\n",
      "  \"attention_probs_dropout_prob\": 0.0,\n",
      "  \"encoder_stride\": 16,\n",
      "  \"hidden_act\": \"gelu\",\n",
      "  \"hidden_dropout_prob\": 0.0,\n",
      "  \"hidden_size\": 768,\n",
      "  \"id2label\": {\n",
      "    \"0\": \"early_blight\",\n",
      "    \"1\": \"healthy\",\n",
      "    \"2\": \"late_blight\"\n",
      "  },\n",
      "  \"image_size\": 224,\n",
      "  \"initializer_range\": 0.02,\n",
      "  \"intermediate_size\": 3072,\n",
      "  \"label2id\": {\n",
      "    \"early_blight\": \"0\",\n",
      "    \"healthy\": \"1\",\n",
      "    \"late_blight\": \"2\"\n",
      "  },\n",
      "  \"layer_norm_eps\": 1e-12,\n",
      "  \"model_type\": \"vit\",\n",
      "  \"num_attention_heads\": 12,\n",
      "  \"num_channels\": 3,\n",
      "  \"num_hidden_layers\": 12,\n",
      "  \"patch_size\": 16,\n",
      "  \"problem_type\": \"single_label_classification\",\n",
      "  \"qkv_bias\": true,\n",
      "  \"torch_dtype\": \"float32\",\n",
      "  \"transformers_version\": \"4.26.1\"\n",
      "}\n",
      "\n",
      "Image processor ViTFeatureExtractor {\n",
      "  \"do_normalize\": true,\n",
      "  \"do_rescale\": true,\n",
      "  \"do_resize\": true,\n",
      "  \"image_mean\": [\n",
      "    0.5,\n",
      "    0.5,\n",
      "    0.5\n",
      "  ],\n",
      "  \"image_processor_type\": \"ViTFeatureExtractor\",\n",
      "  \"image_std\": [\n",
      "    0.5,\n",
      "    0.5,\n",
      "    0.5\n",
      "  ],\n",
      "  \"resample\": 2,\n",
      "  \"rescale_factor\": 0.00392156862745098,\n",
      "  \"size\": {\n",
      "    \"height\": 224,\n",
      "    \"width\": 224\n",
      "  }\n",
      "}\n",
      "\n"
     ]
    }
   ],
   "source": [
    "clf = pipeline(\"image-classification\", model=WEIGHTS)"
   ]
  },
  {
   "cell_type": "code",
   "execution_count": 33,
   "id": "fe860eb7-ab8c-41cf-ac70-f50c90a5b2ed",
   "metadata": {
    "execution": {
     "iopub.execute_input": "2023-03-02T19:28:37.111665Z",
     "iopub.status.busy": "2023-03-02T19:28:37.111363Z",
     "iopub.status.idle": "2023-03-02T19:28:37.369877Z",
     "shell.execute_reply": "2023-03-02T19:28:37.369265Z",
     "shell.execute_reply.started": "2023-03-02T19:28:37.111638Z"
    },
    "tags": []
   },
   "outputs": [],
   "source": [
    "result = clf(image)"
   ]
  },
  {
   "cell_type": "code",
   "execution_count": 35,
   "id": "9e0edbad-cf31-46f4-b02e-d686352fc134",
   "metadata": {
    "execution": {
     "iopub.execute_input": "2023-03-02T19:28:40.512202Z",
     "iopub.status.busy": "2023-03-02T19:28:40.511887Z",
     "iopub.status.idle": "2023-03-02T19:28:40.516838Z",
     "shell.execute_reply": "2023-03-02T19:28:40.516194Z",
     "shell.execute_reply.started": "2023-03-02T19:28:40.512177Z"
    },
    "tags": []
   },
   "outputs": [
    {
     "data": {
      "text/plain": [
       "[{'score': 0.994130551815033, 'label': 'healthy'},\n",
       " {'score': 0.002945276675745845, 'label': 'early_blight'},\n",
       " {'score': 0.0029240513686090708, 'label': 'late_blight'}]"
      ]
     },
     "execution_count": 35,
     "metadata": {},
     "output_type": "execute_result"
    }
   ],
   "source": [
    "result"
   ]
  },
  {
   "cell_type": "code",
   "execution_count": 36,
   "id": "360e719f-665b-464c-82b3-70ad8cc3061b",
   "metadata": {
    "execution": {
     "iopub.execute_input": "2023-03-02T19:29:16.587379Z",
     "iopub.status.busy": "2023-03-02T19:29:16.587080Z",
     "iopub.status.idle": "2023-03-02T19:29:16.590546Z",
     "shell.execute_reply": "2023-03-02T19:29:16.589893Z",
     "shell.execute_reply.started": "2023-03-02T19:29:16.587352Z"
    }
   },
   "outputs": [],
   "source": [
    "import glob"
   ]
  },
  {
   "cell_type": "code",
   "execution_count": 37,
   "id": "86aafac8-cd46-403a-8cf2-52c751d37051",
   "metadata": {
    "execution": {
     "iopub.execute_input": "2023-03-02T19:29:41.011983Z",
     "iopub.status.busy": "2023-03-02T19:29:41.011687Z",
     "iopub.status.idle": "2023-03-02T19:29:41.019015Z",
     "shell.execute_reply": "2023-03-02T19:29:41.018551Z",
     "shell.execute_reply.started": "2023-03-02T19:29:41.011956Z"
    }
   },
   "outputs": [],
   "source": [
    "images = [Image.open(i) for i in glob.glob('../ml-server/tests/images/*.jpeg')]"
   ]
  },
  {
   "cell_type": "code",
   "execution_count": 43,
   "id": "9affb6dc-fbbc-4597-9aa7-b91e6b09ada7",
   "metadata": {
    "execution": {
     "iopub.execute_input": "2023-03-02T19:30:41.452176Z",
     "iopub.status.busy": "2023-03-02T19:30:41.451881Z",
     "iopub.status.idle": "2023-03-02T19:30:42.084985Z",
     "shell.execute_reply": "2023-03-02T19:30:42.084348Z",
     "shell.execute_reply.started": "2023-03-02T19:30:41.452148Z"
    }
   },
   "outputs": [],
   "source": [
    "results = clf(images)"
   ]
  },
  {
   "cell_type": "code",
   "execution_count": 44,
   "id": "b057a0be-88d8-464d-aab3-1e209aae2cc6",
   "metadata": {
    "execution": {
     "iopub.execute_input": "2023-03-02T19:30:42.086632Z",
     "iopub.status.busy": "2023-03-02T19:30:42.086272Z",
     "iopub.status.idle": "2023-03-02T19:30:42.091493Z",
     "shell.execute_reply": "2023-03-02T19:30:42.090841Z",
     "shell.execute_reply.started": "2023-03-02T19:30:42.086605Z"
    }
   },
   "outputs": [
    {
     "data": {
      "text/plain": [
       "[[{'score': 0.994130551815033, 'label': 'healthy'},\n",
       "  {'score': 0.002945276675745845, 'label': 'early_blight'},\n",
       "  {'score': 0.0029240513686090708, 'label': 'late_blight'}],\n",
       " [{'score': 0.9954003691673279, 'label': 'late_blight'},\n",
       "  {'score': 0.00231309630908072, 'label': 'healthy'},\n",
       "  {'score': 0.0022865948267281055, 'label': 'early_blight'}],\n",
       " [{'score': 0.9955145716667175, 'label': 'early_blight'},\n",
       "  {'score': 0.0026240383740514517, 'label': 'late_blight'},\n",
       "  {'score': 0.0018613555002957582, 'label': 'healthy'}]]"
      ]
     },
     "execution_count": 44,
     "metadata": {},
     "output_type": "execute_result"
    }
   ],
   "source": [
    "results"
   ]
  }
 ],
 "metadata": {
  "kernelspec": {
   "display_name": "saturn (Python 3)",
   "language": "python",
   "name": "python3"
  },
  "language_info": {
   "codemirror_mode": {
    "name": "ipython",
    "version": 3
   },
   "file_extension": ".py",
   "mimetype": "text/x-python",
   "name": "python",
   "nbconvert_exporter": "python",
   "pygments_lexer": "ipython3",
   "version": "3.9.12"
  }
 },
 "nbformat": 4,
 "nbformat_minor": 5
}
