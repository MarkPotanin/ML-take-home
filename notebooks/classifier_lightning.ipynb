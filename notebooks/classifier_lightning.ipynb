{
 "cells": [
  {
   "cell_type": "markdown",
   "id": "a6a9a258",
   "metadata": {},
   "source": [
    "# Import libraries"
   ]
  },
  {
   "cell_type": "markdown",
   "id": "64155851-b683-45ce-9ae6-c5bc793f8176",
   "metadata": {},
   "source": [
    "Here I made the same experiment as with transformers, but using pytorch lightning. I just wanted to show another approach, and also I use pl as my standard framework. I also used vanilla ResNet instead of Vision Transformer."
   ]
  },
  {
   "cell_type": "code",
   "execution_count": null,
   "id": "7cc1618e-2c25-4ad7-8773-0497090de44c",
   "metadata": {},
   "outputs": [],
   "source": [
    "#!pip install pytorch-lightning"
   ]
  },
  {
   "cell_type": "code",
   "execution_count": null,
   "id": "50f1c8b1-9983-4986-a7bf-6ffed9e917cb",
   "metadata": {},
   "outputs": [],
   "source": [
    "#!pip install neptune-client"
   ]
  },
  {
   "cell_type": "code",
   "execution_count": null,
   "id": "1a04ec5c-f5d3-4a19-8381-0435cb10a896",
   "metadata": {},
   "outputs": [],
   "source": [
    "#!pip install opencv-python"
   ]
  },
  {
   "cell_type": "code",
   "execution_count": 1,
   "id": "a99af045",
   "metadata": {
    "execution": {
     "iopub.execute_input": "2023-03-05T23:11:18.710796Z",
     "iopub.status.busy": "2023-03-05T23:11:18.710466Z",
     "iopub.status.idle": "2023-03-05T23:11:21.277045Z",
     "shell.execute_reply": "2023-03-05T23:11:21.276489Z",
     "shell.execute_reply.started": "2023-03-05T23:11:18.710724Z"
    },
    "tags": []
   },
   "outputs": [],
   "source": [
    "from matplotlib import pyplot as plt\n",
    "from torch.utils.data import Dataset, DataLoader\n",
    "import torch\n",
    "import numpy as np\n",
    "from torchvision import transforms\n",
    "from torchvision.datasets import ImageFolder\n",
    "import torchvision\n",
    "import torchvision.models as models\n",
    "import pytorch_lightning as pl\n",
    "import torch.nn as nn\n",
    "from torchmetrics import Accuracy\n",
    "import torch.optim as optim\n",
    "from pytorch_lightning.callbacks.early_stopping import EarlyStopping\n",
    "from pytorch_lightning.callbacks import ModelCheckpoint\n",
    "from collections import Counter"
   ]
  },
  {
   "cell_type": "markdown",
   "id": "11a16b33",
   "metadata": {
    "tags": []
   },
   "source": [
    "# Data"
   ]
  },
  {
   "cell_type": "code",
   "execution_count": 3,
   "id": "ced2a4ba-ec6c-4686-9617-a20c90327dea",
   "metadata": {
    "execution": {
     "iopub.execute_input": "2023-03-05T23:11:23.070616Z",
     "iopub.status.busy": "2023-03-05T23:11:23.070325Z",
     "iopub.status.idle": "2023-03-05T23:11:23.075647Z",
     "shell.execute_reply": "2023-03-05T23:11:23.075163Z",
     "shell.execute_reply.started": "2023-03-05T23:11:23.070593Z"
    },
    "tags": []
   },
   "outputs": [],
   "source": [
    "CONFIG = {\"lr\":2*1e-4,\\\n",
    "         \"batch_size\":32,\\\n",
    "         'epochs':10}"
   ]
  },
  {
   "cell_type": "code",
   "execution_count": 4,
   "id": "73a2903c-73d7-467d-b484-404565b082cf",
   "metadata": {
    "execution": {
     "iopub.execute_input": "2023-03-05T23:11:24.531268Z",
     "iopub.status.busy": "2023-03-05T23:11:24.530952Z",
     "iopub.status.idle": "2023-03-05T23:11:24.535967Z",
     "shell.execute_reply": "2023-03-05T23:11:24.535425Z",
     "shell.execute_reply.started": "2023-03-05T23:11:24.531245Z"
    },
    "tags": []
   },
   "outputs": [],
   "source": [
    "train_transforms = transforms.Compose([transforms.Resize(size=224),\n",
    "              transforms.RandomHorizontalFlip(),\n",
    "              transforms.RandomVerticalFlip(),\n",
    "              transforms.CenterCrop(size=224),\n",
    "              transforms.ToTensor(),\n",
    "              transforms.Normalize([0.485, 0.456, 0.406],[0.229, 0.224, 0.225])\n",
    "        ])\n",
    "val_transforms = transforms.Compose([\n",
    "              transforms.Resize(size=224),\n",
    "              transforms.ToTensor(),\n",
    "              transforms.Normalize([0.485, 0.456, 0.406],[0.229, 0.224, 0.225])\n",
    "        ])\n"
   ]
  },
  {
   "cell_type": "code",
   "execution_count": 5,
   "id": "676ac247-367f-4f87-97b7-701654bbaf90",
   "metadata": {
    "execution": {
     "iopub.execute_input": "2023-03-05T23:11:24.656031Z",
     "iopub.status.busy": "2023-03-05T23:11:24.655753Z",
     "iopub.status.idle": "2023-03-05T23:11:24.696068Z",
     "shell.execute_reply": "2023-03-05T23:11:24.695520Z",
     "shell.execute_reply.started": "2023-03-05T23:11:24.656007Z"
    },
    "tags": []
   },
   "outputs": [],
   "source": [
    "train_ds = ImageFolder('../dataset/PLD_3_Classes_256/Training/',transform=train_transforms)\n",
    "val_ds = ImageFolder('../dataset/PLD_3_Classes_256/Validation/',transform=train_transforms)\n",
    "test_ds = ImageFolder('../dataset/PLD_3_Classes_256/Testing/',transform=train_transforms)"
   ]
  },
  {
   "cell_type": "markdown",
   "id": "c4b937d8-c3ed-4a1d-b879-97938faad0b5",
   "metadata": {},
   "source": [
    "Let's look at class balance"
   ]
  },
  {
   "cell_type": "code",
   "execution_count": 6,
   "id": "32eeaea0-0252-4c81-adb1-fd29e51d7f7b",
   "metadata": {
    "execution": {
     "iopub.execute_input": "2023-03-05T23:11:34.390627Z",
     "iopub.status.busy": "2023-03-05T23:11:34.390337Z",
     "iopub.status.idle": "2023-03-05T23:11:34.395181Z",
     "shell.execute_reply": "2023-03-05T23:11:34.394586Z",
     "shell.execute_reply.started": "2023-03-05T23:11:34.390604Z"
    },
    "tags": []
   },
   "outputs": [
    {
     "name": "stdout",
     "output_type": "stream",
     "text": [
      "Counter({0: 1303, 2: 1132, 1: 816})\n",
      "Counter({0: 163, 2: 151, 1: 102})\n",
      "Counter({0: 162, 2: 141, 1: 102})\n"
     ]
    }
   ],
   "source": [
    "train_cnt = Counter(train_ds.targets)\n",
    "val_cnt = Counter(val_ds.targets)\n",
    "test_cnt = Counter(test_ds.targets)\n",
    "print(train_cnt)\n",
    "print(val_cnt)\n",
    "print(test_cnt)"
   ]
  },
  {
   "cell_type": "markdown",
   "id": "af79da6c-08b0-4cce-bfdb-e69a4b9eaa0f",
   "metadata": {},
   "source": [
    "So all splits looks like pretty balanced."
   ]
  },
  {
   "cell_type": "code",
   "execution_count": 7,
   "id": "9f77ef97-1879-4d7b-9dc2-1b74de549c0d",
   "metadata": {
    "execution": {
     "iopub.execute_input": "2023-03-05T23:11:41.671170Z",
     "iopub.status.busy": "2023-03-05T23:11:41.670869Z",
     "iopub.status.idle": "2023-03-05T23:11:41.675285Z",
     "shell.execute_reply": "2023-03-05T23:11:41.674632Z",
     "shell.execute_reply.started": "2023-03-05T23:11:41.671145Z"
    },
    "tags": []
   },
   "outputs": [],
   "source": [
    "train_dl = DataLoader(train_ds, batch_size=CONFIG['batch_size'], shuffle=True, num_workers=4)\n",
    "val_dl = DataLoader(val_ds, batch_size=CONFIG['batch_size'], shuffle=False, num_workers=4)\n",
    "test_dl = DataLoader(test_ds, batch_size=CONFIG['batch_size'], shuffle=False, num_workers=4)"
   ]
  },
  {
   "cell_type": "markdown",
   "id": "24446671",
   "metadata": {
    "tags": []
   },
   "source": [
    "# Model"
   ]
  },
  {
   "cell_type": "code",
   "execution_count": 10,
   "id": "10e51c86-34b6-4bc4-8390-86a8046f5e30",
   "metadata": {
    "execution": {
     "iopub.execute_input": "2023-03-02T01:54:42.556361Z",
     "iopub.status.busy": "2023-03-02T01:54:42.556070Z",
     "iopub.status.idle": "2023-03-02T01:54:42.565833Z",
     "shell.execute_reply": "2023-03-02T01:54:42.565175Z",
     "shell.execute_reply.started": "2023-03-02T01:54:42.556338Z"
    },
    "tags": []
   },
   "outputs": [],
   "source": [
    "class LeafModel(pl.LightningModule):\n",
    "    def __init__(self, num_classes, lr=2e-4):\n",
    "        super().__init__()\n",
    "        self.save_hyperparameters()\n",
    "        self.lr = lr\n",
    "        self.num_classes = num_classes\n",
    "        self.model = models.resnet50(pretrained=True)\n",
    "        self.model.fc = nn.Sequential(\n",
    "            nn.Linear(self.model.fc.in_features, 128),\n",
    "            nn.Dropout(0.3),\n",
    "            nn.Linear(128, self.num_classes)\n",
    "        )\n",
    "        \n",
    "        self.loss_fn = nn.CrossEntropyLoss()\n",
    "        self.accuracy = Accuracy(task=\"multiclass\", num_classes=3)\n",
    "        \n",
    "    def forward(self, x):\n",
    "        x = self.model(x)\n",
    "        return x\n",
    "    def configure_optimizers(self):\n",
    "        optimizer = torch.optim.AdamW(self.parameters(), lr=self.lr)\n",
    "        scheduler = torch.optim.lr_scheduler.StepLR(optimizer, step_size=2)\n",
    "        return [optimizer], [scheduler]\n",
    "    \n",
    "    def training_step(self, batch, batch_idx):\n",
    "        \n",
    "        x, y = batch\n",
    "        \n",
    "        preds = self(x)\n",
    "        loss = self.loss_fn(preds, y)\n",
    "        acc = self.accuracy(torch.argmax(preds, dim=1), y)\n",
    "        \n",
    "        self.log('train_loss', loss.item(), on_epoch=True,logger=True)\n",
    "        self.log('train_acc', acc, on_epoch=True,logger=True)\n",
    "        \n",
    "        return loss\n",
    "    \n",
    "    def validation_step(self, batch, batch_idx):\n",
    "        \n",
    "        x,y = batch\n",
    "        \n",
    "        preds = self(x)\n",
    "        \n",
    "        loss = self.loss_fn(preds, y)\n",
    "        acc = self.accuracy(torch.argmax(preds, dim=1), y)\n",
    "        \n",
    "        self.log('val_loss', loss, on_epoch=True,prog_bar=True,logger=True)\n",
    "        self.log('val_acc', acc, on_epoch=True,prog_bar=True,logger=True)\n",
    "        \n",
    "    def test_step(self, batch, batch_idx):\n",
    "        \n",
    "        x,y = batch\n",
    "        preds = self(x)\n",
    "        acc = self.accuracy(torch.argmax(preds, dim=1), y)\n",
    "        \n",
    "        self.log('test_acc', acc, on_epoch=True,prog_bar=True)"
   ]
  },
  {
   "cell_type": "markdown",
   "id": "4c59e122-0e2d-432e-927a-5e46baf28dbd",
   "metadata": {},
   "source": [
    "# Train and eval"
   ]
  },
  {
   "cell_type": "markdown",
   "id": "0eb0d6b8-0823-4ac2-a9be-ae1b3c7f8b72",
   "metadata": {},
   "source": [
    "I used neptune.ai as logger, because it's one of my favorite loggers (of course there is popular wandb and standard tensorboard)."
   ]
  },
  {
   "cell_type": "code",
   "execution_count": 11,
   "id": "6105c746",
   "metadata": {
    "execution": {
     "iopub.execute_input": "2023-03-02T01:54:47.636223Z",
     "iopub.status.busy": "2023-03-02T01:54:47.635932Z",
     "iopub.status.idle": "2023-03-02T02:01:00.169928Z",
     "shell.execute_reply": "2023-03-02T02:01:00.169305Z",
     "shell.execute_reply.started": "2023-03-02T01:54:47.636200Z"
    },
    "tags": []
   },
   "outputs": [
    {
     "name": "stderr",
     "output_type": "stream",
     "text": [
      "/srv/conda/envs/saturn/lib/python3.9/site-packages/torchvision/models/_utils.py:208: UserWarning: The parameter 'pretrained' is deprecated since 0.13 and may be removed in the future, please use 'weights' instead.\n",
      "  warnings.warn(\n",
      "/srv/conda/envs/saturn/lib/python3.9/site-packages/torchvision/models/_utils.py:223: UserWarning: Arguments other than a weight enum or `None` for 'weights' are deprecated since 0.13 and may be removed in the future. The current behavior is equivalent to passing `weights=ResNet50_Weights.IMAGENET1K_V1`. You can also use `weights=ResNet50_Weights.DEFAULT` to get the most up-to-date weights.\n",
      "  warnings.warn(msg)\n",
      "GPU available: True (cuda), used: True\n",
      "TPU available: False, using: 0 TPU cores\n",
      "IPU available: False, using: 0 IPUs\n",
      "HPU available: False, using: 0 HPUs\n",
      "/srv/conda/envs/saturn/lib/python3.9/site-packages/pytorch_lightning/callbacks/model_checkpoint.py:613: UserWarning: Checkpoint directory /home/jovyan/workspace/resnet-potato exists and is not empty.\n",
      "  rank_zero_warn(f\"Checkpoint directory {dirpath} exists and is not empty.\")\n",
      "LOCAL_RANK: 0 - CUDA_VISIBLE_DEVICES: [0]\n",
      "\n",
      "  | Name     | Type               | Params\n",
      "------------------------------------------------\n",
      "0 | model    | ResNet             | 23.8 M\n",
      "1 | loss_fn  | CrossEntropyLoss   | 0     \n",
      "2 | accuracy | MulticlassAccuracy | 0     \n",
      "------------------------------------------------\n",
      "23.8 M    Trainable params\n",
      "0         Non-trainable params\n",
      "23.8 M    Total params\n",
      "95.083    Total estimated model params size (MB)\n",
      "/srv/conda/envs/saturn/lib/python3.9/site-packages/neptune/common/warnings.py:62: NeptuneWarning: To avoid unintended consumption of logging hours during interactive sessions, the following monitoring options are disabled unless set to 'True' when initializing the run: 'capture_stdout', 'capture_stderr', and 'capture_hardware_metrics'.\n",
      "  warnings.warn(\n"
     ]
    },
    {
     "name": "stdout",
     "output_type": "stream",
     "text": [
      "https://app.neptune.ai/markpotanin/leaf-classifier/e/LEAF-8\n"
     ]
    },
    {
     "data": {
      "application/vnd.jupyter.widget-view+json": {
       "model_id": "",
       "version_major": 2,
       "version_minor": 0
      },
      "text/plain": [
       "Sanity Checking: 0it [00:00, ?it/s]"
      ]
     },
     "metadata": {},
     "output_type": "display_data"
    },
    {
     "data": {
      "application/vnd.jupyter.widget-view+json": {
       "model_id": "7af70c4a8e0b4a859954ca091146ca93",
       "version_major": 2,
       "version_minor": 0
      },
      "text/plain": [
       "Training: 0it [00:00, ?it/s]"
      ]
     },
     "metadata": {},
     "output_type": "display_data"
    },
    {
     "data": {
      "application/vnd.jupyter.widget-view+json": {
       "model_id": "",
       "version_major": 2,
       "version_minor": 0
      },
      "text/plain": [
       "Validation: 0it [00:00, ?it/s]"
      ]
     },
     "metadata": {},
     "output_type": "display_data"
    },
    {
     "data": {
      "application/vnd.jupyter.widget-view+json": {
       "model_id": "",
       "version_major": 2,
       "version_minor": 0
      },
      "text/plain": [
       "Validation: 0it [00:00, ?it/s]"
      ]
     },
     "metadata": {},
     "output_type": "display_data"
    },
    {
     "data": {
      "application/vnd.jupyter.widget-view+json": {
       "model_id": "",
       "version_major": 2,
       "version_minor": 0
      },
      "text/plain": [
       "Validation: 0it [00:00, ?it/s]"
      ]
     },
     "metadata": {},
     "output_type": "display_data"
    },
    {
     "name": "stdout",
     "output_type": "stream",
     "text": [
      "File /home/jovyan/workspace/resnet-potato/best.ckpt changed during upload, restarting upload.\n"
     ]
    },
    {
     "data": {
      "application/vnd.jupyter.widget-view+json": {
       "model_id": "",
       "version_major": 2,
       "version_minor": 0
      },
      "text/plain": [
       "Validation: 0it [00:00, ?it/s]"
      ]
     },
     "metadata": {},
     "output_type": "display_data"
    },
    {
     "name": "stdout",
     "output_type": "stream",
     "text": [
      "File /home/jovyan/workspace/resnet-potato/best.ckpt changed during upload, restarting upload.\n"
     ]
    },
    {
     "data": {
      "application/vnd.jupyter.widget-view+json": {
       "model_id": "",
       "version_major": 2,
       "version_minor": 0
      },
      "text/plain": [
       "Validation: 0it [00:00, ?it/s]"
      ]
     },
     "metadata": {},
     "output_type": "display_data"
    },
    {
     "name": "stdout",
     "output_type": "stream",
     "text": [
      "File /home/jovyan/workspace/resnet-potato/best.ckpt changed during upload, restarting upload.\n"
     ]
    },
    {
     "data": {
      "application/vnd.jupyter.widget-view+json": {
       "model_id": "",
       "version_major": 2,
       "version_minor": 0
      },
      "text/plain": [
       "Validation: 0it [00:00, ?it/s]"
      ]
     },
     "metadata": {},
     "output_type": "display_data"
    },
    {
     "name": "stdout",
     "output_type": "stream",
     "text": [
      "File /home/jovyan/workspace/resnet-potato/best.ckpt changed during upload, restarting upload.\n"
     ]
    },
    {
     "data": {
      "application/vnd.jupyter.widget-view+json": {
       "model_id": "",
       "version_major": 2,
       "version_minor": 0
      },
      "text/plain": [
       "Validation: 0it [00:00, ?it/s]"
      ]
     },
     "metadata": {},
     "output_type": "display_data"
    },
    {
     "data": {
      "application/vnd.jupyter.widget-view+json": {
       "model_id": "",
       "version_major": 2,
       "version_minor": 0
      },
      "text/plain": [
       "Validation: 0it [00:00, ?it/s]"
      ]
     },
     "metadata": {},
     "output_type": "display_data"
    },
    {
     "name": "stdout",
     "output_type": "stream",
     "text": [
      "File /home/jovyan/workspace/resnet-potato/best.ckpt changed during upload, restarting upload.\n"
     ]
    },
    {
     "data": {
      "application/vnd.jupyter.widget-view+json": {
       "model_id": "",
       "version_major": 2,
       "version_minor": 0
      },
      "text/plain": [
       "Validation: 0it [00:00, ?it/s]"
      ]
     },
     "metadata": {},
     "output_type": "display_data"
    },
    {
     "data": {
      "application/vnd.jupyter.widget-view+json": {
       "model_id": "",
       "version_major": 2,
       "version_minor": 0
      },
      "text/plain": [
       "Validation: 0it [00:00, ?it/s]"
      ]
     },
     "metadata": {},
     "output_type": "display_data"
    },
    {
     "name": "stdout",
     "output_type": "stream",
     "text": [
      "File /home/jovyan/workspace/resnet-potato/best.ckpt changed during upload, restarting upload.\n"
     ]
    },
    {
     "name": "stderr",
     "output_type": "stream",
     "text": [
      "`Trainer.fit` stopped: `max_epochs=10` reached.\n"
     ]
    }
   ],
   "source": [
    "from pytorch_lightning.loggers import NeptuneLogger\n",
    "\n",
    "neptune_logger = NeptuneLogger(\n",
    "    project=\"markpotanin/leaf-classifier\",\n",
    "    api_key=\"eyJhcGlfYWRkcmVzcyI6Imh0dHBzOi8vYXBwLm5lcHR1bmUuYWkiLCJhcGlfdXJsIjoiaHR0cHM6Ly9hcHAubmVwdHVuZS5haSIsImFwaV9rZXkiOiJhNzgyN2Q3OC05ZWE5LTRkZGQtODUyOS03ZmYzNGQwOTczYTEifQ==\",\n",
    "    tags=[\"training\", \"resnet50\"]\n",
    ")\n",
    "\n",
    "checkpoint_callback = ModelCheckpoint(dirpath='./resnet-potato/',filename='best', monitor='val_loss',mode='min', save_top_k=1)\n",
    "model = LeafModel(num_classes = 3,lr = CONFIG['lr'])\n",
    "early_stop_callback = EarlyStopping(monitor=\"val_loss\", min_delta=0.001, patience=3, verbose=False, mode=\"min\")\n",
    "trainer_args = {\n",
    "        \"accelerator\": \"gpu\",\n",
    "        \"max_epochs\": CONFIG['epochs'],\n",
    "        \"callbacks\": [early_stop_callback,checkpoint_callback],\n",
    "    }\n",
    "trainer = pl.Trainer(**trainer_args,logger = neptune_logger,default_root_dir='./resnet-potato/',enable_progress_bar=True)\n",
    "trainer.fit(model,train_dl,val_dl)"
   ]
  },
  {
   "cell_type": "code",
   "execution_count": 12,
   "id": "a1e3f17a-47af-4551-8f88-928f9500be1f",
   "metadata": {
    "execution": {
     "iopub.execute_input": "2023-03-02T02:01:00.172078Z",
     "iopub.status.busy": "2023-03-02T02:01:00.171742Z",
     "iopub.status.idle": "2023-03-02T02:01:00.176981Z",
     "shell.execute_reply": "2023-03-02T02:01:00.175584Z",
     "shell.execute_reply.started": "2023-03-02T02:01:00.172042Z"
    },
    "tags": []
   },
   "outputs": [],
   "source": [
    "metrics = trainer.logged_metrics"
   ]
  },
  {
   "cell_type": "code",
   "execution_count": 13,
   "id": "173655d3-c743-4556-bab7-54edfa0bbd27",
   "metadata": {
    "execution": {
     "iopub.execute_input": "2023-03-02T02:01:00.177953Z",
     "iopub.status.busy": "2023-03-02T02:01:00.177784Z",
     "iopub.status.idle": "2023-03-02T02:01:00.188945Z",
     "shell.execute_reply": "2023-03-02T02:01:00.188323Z",
     "shell.execute_reply.started": "2023-03-02T02:01:00.177934Z"
    },
    "tags": []
   },
   "outputs": [
    {
     "data": {
      "text/plain": [
       "{'train_loss_step': tensor(0.0010),\n",
       " 'train_acc_step': tensor(1.),\n",
       " 'val_loss': tensor(0.0126),\n",
       " 'val_acc': tensor(0.9952),\n",
       " 'train_loss_epoch': tensor(0.0110),\n",
       " 'train_acc_epoch': tensor(0.9978)}"
      ]
     },
     "execution_count": 13,
     "metadata": {},
     "output_type": "execute_result"
    }
   ],
   "source": [
    "metrics"
   ]
  },
  {
   "cell_type": "code",
   "execution_count": 14,
   "id": "fbcc3823-9ce5-45af-83ae-f6bc1589641f",
   "metadata": {
    "execution": {
     "iopub.execute_input": "2023-03-02T02:01:00.190277Z",
     "iopub.status.busy": "2023-03-02T02:01:00.190061Z",
     "iopub.status.idle": "2023-03-02T02:01:02.538816Z",
     "shell.execute_reply": "2023-03-02T02:01:02.538129Z",
     "shell.execute_reply.started": "2023-03-02T02:01:00.190258Z"
    },
    "tags": []
   },
   "outputs": [
    {
     "name": "stderr",
     "output_type": "stream",
     "text": [
      "LOCAL_RANK: 0 - CUDA_VISIBLE_DEVICES: [0]\n"
     ]
    },
    {
     "data": {
      "application/vnd.jupyter.widget-view+json": {
       "model_id": "f41d062bae3f4895b4bb7828bef5b668",
       "version_major": 2,
       "version_minor": 0
      },
      "text/plain": [
       "Testing: 0it [00:00, ?it/s]"
      ]
     },
     "metadata": {},
     "output_type": "display_data"
    },
    {
     "name": "stdout",
     "output_type": "stream",
     "text": [
      "────────────────────────────────────────────────────────────────────────────────────────────────────────────────────────\n",
      "       Test metric             DataLoader 0\n",
      "────────────────────────────────────────────────────────────────────────────────────────────────────────────────────────\n",
      "        test_acc            0.9925925731658936\n",
      "────────────────────────────────────────────────────────────────────────────────────────────────────────────────────────\n"
     ]
    },
    {
     "data": {
      "text/plain": [
       "[{'test_acc': 0.9925925731658936}]"
      ]
     },
     "execution_count": 14,
     "metadata": {},
     "output_type": "execute_result"
    }
   ],
   "source": [
    "trainer.test(model, test_dl)"
   ]
  }
 ],
 "metadata": {
  "kernelspec": {
   "display_name": "saturn (Python 3)",
   "language": "python",
   "name": "python3"
  },
  "language_info": {
   "codemirror_mode": {
    "name": "ipython",
    "version": 3
   },
   "file_extension": ".py",
   "mimetype": "text/x-python",
   "name": "python",
   "nbconvert_exporter": "python",
   "pygments_lexer": "ipython3",
   "version": "3.9.12"
  }
 },
 "nbformat": 4,
 "nbformat_minor": 5
}
